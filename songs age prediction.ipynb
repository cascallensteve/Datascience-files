{
 "cells": [
  {
   "cell_type": "code",
   "execution_count": 6,
   "id": "0438abda-da45-4d4a-809b-318d2376015b",
   "metadata": {},
   "outputs": [
    {
     "name": "stdout",
     "output_type": "stream",
     "text": [
      "   age  gender\n",
      "0   20       1\n",
      "1   23       1\n",
      "2   25       1\n",
      "3   26       1\n",
      "4   29       1\n",
      "0    HipHop\n",
      "1    HipHop\n",
      "2    HipHop\n",
      "3      Jazz\n",
      "4      Jazz\n",
      "Name: genre, dtype: object\n",
      "['HipHop' 'HipHop' 'Classical' 'Jazz']\n",
      "Accuracy: 100.00%\n",
      "['HipHop' 'Acoustic']\n"
     ]
    }
   ],
   "source": [
    "import pandas as pd\n",
    "from sklearn.tree import DecisionTreeClassifier\n",
    "from sklearn.model_selection import train_test_split\n",
    "from sklearn.metrics import accuracy_score\n",
    "\n",
    "# Load the dataset from the specified path\n",
    "music = pd.read_csv(r'C:\\Users\\James\\OneDrive\\first year\\Documents\\Desktop\\ml\\music.csv')\n",
    "\n",
    "# Split the dataset into features (X) and target (Y)\n",
    "# 'genre' is the target column, and all other columns are features\n",
    "X = music.drop(columns=['genre'])\n",
    "Y = music['genre']\n",
    "\n",
    "# Split the data into training and testing sets\n",
    "# 80% of the data will be used for training, and 20% for testing\n",
    "X_train, X_test, Y_train, Y_test = train_test_split(X, Y, test_size=0.2, random_state=42)\n",
    "\n",
    "# Display the first few rows of the features and target to confirm the split\n",
    "print(X.head())  # Print the first 5 rows of features\n",
    "print(Y.head())  # Print the first 5 rows of target\n",
    "\n",
    "# Initialize the DecisionTreeClassifier model\n",
    "model = DecisionTreeClassifier()\n",
    "\n",
    "# Train the model using the training data\n",
    "model.fit(X_train, Y_train)\n",
    "\n",
    "# Make predictions on the test set\n",
    "Y_pred = model.predict(X_test)\n",
    "\n",
    "# Display the predictions for the test set\n",
    "print(Y_pred)\n",
    "\n",
    "# Calculate the accuracy score by comparing the true values (Y_test) with the predictions (Y_pred)\n",
    "score = accuracy_score(Y_test, Y_pred)\n",
    "\n",
    "# Print the accuracy score as a percentage\n",
    "print(f\"Accuracy: {score * 100:.2f}%\")\n",
    "\n",
    "# Make predictions on new, unseen data\n",
    "# Ensure the new data has the same structure (columns) as the training data\n",
    "input_data = pd.DataFrame([[21, 1], [30, 0]], columns=X.columns)\n",
    "\n",
    "# Predict the genre for the new data\n",
    "predictions = model.predict(input_data)\n",
    "\n",
    "# Display the predictions for the new data\n",
    "print(predictions)\n"
   ]
  },
  {
   "cell_type": "code",
   "execution_count": null,
   "id": "c52d9972-6ba7-40ff-87df-f796e4b09c98",
   "metadata": {},
   "outputs": [],
   "source": []
  }
 ],
 "metadata": {
  "kernelspec": {
   "display_name": "Python 3 (ipykernel)",
   "language": "python",
   "name": "python3"
  },
  "language_info": {
   "codemirror_mode": {
    "name": "ipython",
    "version": 3
   },
   "file_extension": ".py",
   "mimetype": "text/x-python",
   "name": "python",
   "nbconvert_exporter": "python",
   "pygments_lexer": "ipython3",
   "version": "3.12.3"
  }
 },
 "nbformat": 4,
 "nbformat_minor": 5
}
