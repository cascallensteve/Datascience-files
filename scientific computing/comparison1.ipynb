{
 "cells": [
  {
   "cell_type": "code",
   "execution_count": null,
   "metadata": {},
   "outputs": [],
   "source": [
    "print(3>2)\n",
    "print(3!=2)\n",
    "\n",
    "# boolean operator\n",
    "\n",
    "print(True and False)\n",
    "print(True or False)"
   ]
  }
 ],
 "metadata": {
  "language_info": {
   "name": "python"
  }
 },
 "nbformat": 4,
 "nbformat_minor": 2
}
