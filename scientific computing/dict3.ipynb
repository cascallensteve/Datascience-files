{
 "cells": [
  {
   "cell_type": "code",
   "execution_count": 1,
   "metadata": {},
   "outputs": [
    {
     "name": "stdout",
     "output_type": "stream",
     "text": [
      "dict_keys(['spain', 'usa'])\n",
      "dict_values(['madrid', 'vegas'])\n"
     ]
    }
   ],
   "source": [
    "#create dictionary and look its keys and values\n",
    "dictionary = {'spain' : 'madrid','usa' : 'vegas'}\n",
    "print(dictionary.keys())\n",
    "print(dictionary.values())"
   ]
  },
  {
   "cell_type": "code",
   "execution_count": 2,
   "metadata": {},
   "outputs": [
    {
     "name": "stdout",
     "output_type": "stream",
     "text": [
      "dict_keys(['spain', 'usa'])\n",
      "dict_values(['madrid', 'vegas'])\n",
      "{'spain': 'barcelona', 'usa': 'vegas'}\n",
      "{'spain': 'barcelona', 'usa': 'vegas', 'france': 'paris'}\n"
     ]
    }
   ],
   "source": [
    "#create dictionary and look its keys and values\n",
    "dictionary = {'spain' : 'madrid','usa' : 'vegas'}\n",
    "print(dictionary.keys())\n",
    "print(dictionary.values())\n",
    "dictionary['spain'] = \"barcelona\"    # update existing entry\n",
    "print(dictionary)\n",
    "dictionary['france'] = \"paris\"       # Add new entry\n",
    "print(dictionary)"
   ]
  },
  {
   "cell_type": "code",
   "execution_count": 3,
   "metadata": {},
   "outputs": [
    {
     "name": "stdout",
     "output_type": "stream",
     "text": [
      "dict_keys(['spain', 'usa'])\n",
      "dict_values(['madrid', 'vegas'])\n",
      "{'spain': 'barcelona', 'usa': 'vegas'}\n",
      "{'spain': 'barcelona', 'usa': 'vegas', 'france': 'paris'}\n",
      "{'usa': 'vegas', 'france': 'paris'}\n",
      "True\n",
      "{}\n"
     ]
    }
   ],
   "source": [
    "#create dictionary and look its keys and values\n",
    "dictionary = {'spain' : 'madrid','usa' : 'vegas'}\n",
    "print(dictionary.keys())\n",
    "print(dictionary.values())\n",
    "dictionary['spain'] = \"barcelona\"    # update existing entry\n",
    "print(dictionary)\n",
    "dictionary['france'] = \"paris\"       # Add new entry\n",
    "print(dictionary)\n",
    "\n",
    "del dictionary['spain']              # remove entry with key 'spain'\n",
    "print(dictionary)\n",
    "print('france' in dictionary)        # check include or not\n",
    "dictionary.clear()                   # remove all entries in dict\n",
    "print(dictionary)"
   ]
  }
 ],
 "metadata": {
  "kernelspec": {
   "display_name": "Python 3",
   "language": "python",
   "name": "python3"
  },
  "language_info": {
   "codemirror_mode": {
    "name": "ipython",
    "version": 3
   },
   "file_extension": ".py",
   "mimetype": "text/x-python",
   "name": "python",
   "nbconvert_exporter": "python",
   "pygments_lexer": "ipython3",
   "version": "3.12.3"
  }
 },
 "nbformat": 4,
 "nbformat_minor": 2
}
